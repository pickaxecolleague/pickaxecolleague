{
  "cells": [
    {
      "cell_type": "code",
      "execution_count": null,
      "metadata": {},
      "outputs": [],
      "source": [
        "#@title **Chạy cái này trước:**\n",
        "\n",
        "! DebugPID=$(ps -ef | grep '/usr/bin/python3 /usr/local/lib/python3.7/dist-packages/debugpy/adapter' | grep -v 'grep' | awk '{ printf $2 }') && pkill $DebugPID"
      ]
    },
    {
      "cell_type": "code",
      "execution_count": null,
      "metadata": {
        "cellView": "form",
        "id": "gK9zCJY1wM9n"
      },
      "outputs": [],
      "source": [
        "#@title **Kiểm tra tên GPU:**\n",
        "\n",
        "gpu_info = ! nvidia-smi --query-gpu=name --format=csv,noheader\n",
        "gpu_info = '\\n'.join(gpu_info)\n",
        "if gpu_info.find('failed') >= 0:\n",
        "  print('Bạn không kết nối với runtime có GPU !')\n",
        "else:\n",
        "  print(gpu_info)"
      ]
    },
    {
      "cell_type": "code",
      "execution_count": null,
      "metadata": {
        "cellView": "form",
        "id": "H3_A19hBr2oG"
      },
      "outputs": [],
      "source": [
        "#@title **Import những thứ cần thiết:**\n",
        "\n",
        "!pip3 install ColabTurtle\n",
        "!pip3 install colab_ssh --upgrade\n",
        "\n",
        "import os\n",
        "import subprocess\n",
        "import random\n",
        "import time\n",
        "import string\n",
        "import ColabTurtle.Turtle as t\n",
        "from IPython.display import clear_output \n",
        "from google.colab import drive\n",
        "from colab_ssh import launch_ssh_cloudflared, init_git_cloudflared\n",
        "\n",
        "from math import pi"
      ]
    },
    {
      "cell_type": "code",
      "execution_count": null,
      "metadata": {
        "cellView": "form",
        "id": "Buv5SmVLhS_M"
      },
      "outputs": [],
      "source": [
        "#@title **Mount drive:**\n",
        "drive.mount('/content/drive')"
      ]
    },
    {
      "cell_type": "code",
      "execution_count": null,
      "metadata": {
        "cellView": "form",
        "id": "IPxoRnPXlilo"
      },
      "outputs": [],
      "source": [
        "#@title **SSH**\n",
        "Password =  \"07042005\" #@param {type:\"string\"}\n",
        "\n",
        "launch_ssh_cloudflared(password=Password)"
      ]
    },
    {
      "cell_type": "code",
      "execution_count": null,
      "metadata": {
        "cellView": "form",
        "id": "OOHt3qinwJGx"
      },
      "outputs": [],
      "source": [
        "#@title **Tạo User:**\n",
        " \n",
        "username = \"CVH\" #@param {type:\"string\"}\n",
        "password = \"root\" #@param {type:\"string\"}\n",
        " \n",
        "os.system(f\"useradd -m {username}\")\n",
        "os.system(f\"adduser {username} sudo\")    \n",
        "os.system(f\"echo '{username}:{password}' | sudo chpasswd\")\n",
        "os.system(\"sed -i 's/\\/bin\\/sh/\\/bin\\/bash/g' /etc/passwd\")\n",
        " \n",
        "print(\"Đã tạo xong user\")"
      ]
    },
    {
      "cell_type": "code",
      "execution_count": null,
      "metadata": {
        "cellView": "form",
        "id": "pr4itEsHuEaJ"
      },
      "outputs": [],
      "source": [
        "#@title **Cài đặt CRD**\n",
        " \n",
        "#@markdown  Vào http://remotedesktop.google.com/headless sao chép authcode rồi dán ở ô dưới đây .\n",
        " \n",
        "CRP = \"\" #@param {type:\"string\"}\n",
        " \n",
        "Pin =  \"07042005\" #@param {type:\"string\"}\n",
        " \n",
        " \n",
        "class CRD:\n",
        "    def __init__(self):\n",
        "        os.system(\"apt update\")\n",
        "        self.htersfd()\n",
        "        self.hewrfd()\n",
        "        self.thrsfa()\n",
        "        self.nethfd()\n",
        " \n",
        "    @staticmethod\n",
        "    def htersfd():\n",
        "        print(\"Đang cài Chrome Remote Desktop\")\n",
        "        subprocess.run(['wget', 'https://dl.google.com/linux/direct/chrome-remote-desktop_current_amd64.deb'], stdout=subprocess.PIPE)\n",
        "        subprocess.run(['dpkg', '--install', 'chrome-remote-desktop_current_amd64.deb'], stdout=subprocess.PIPE)\n",
        "        subprocess.run(['apt', 'install', '--assume-yes', '--fix-broken'], stdout=subprocess.PIPE)\n",
        " \n",
        "    @staticmethod\n",
        "    def hewrfd():\n",
        "        print(\"Đang cài môi trường desktop\")\n",
        "        os.system(\"export DEBIAN_FRONTEND=noninteractive\")\n",
        "        os.system(\"apt install --assume-yes xfce4 desktop-base xfce4-terminal\")\n",
        "        os.system(\"bash -c 'echo \\\"exec /etc/X11/Xsession /usr/bin/xfce4-session\\\" > /etc/chrome-remote-desktop-session'\")\n",
        "        os.system(\"apt remove --assume-yes gnome-terminal\")\n",
        "        os.system(\"apt install --assume-yes xscreensaver\")\n",
        "        os.system(\"systemctl disable lightdm.service\")\n",
        " \n",
        "    @staticmethod\n",
        "    def thrsfa():\n",
        "        print(\"Đang cài Chrome\")\n",
        "        subprocess.run([\"wget\", \"https://dl.google.com/linux/direct/google-chrome-stable_current_amd64.deb\"], stdout=subprocess.PIPE)\n",
        "        subprocess.run([\"dpkg\", \"--install\", \"google-chrome-stable_current_amd64.deb\"], stdout=subprocess.PIPE)\n",
        "        subprocess.run(['apt', 'install', '--assume-yes', '--fix-broken'], stdout=subprocess.PIPE)\n",
        " \n",
        "    @staticmethod\n",
        "    def nethfd():\n",
        "        print(\"Chuẩn bị hoàn thành\")\n",
        "        os.system(f\"apt install stress iputils-ping -y\")\n",
        "        os.system(f\"adduser {username} chrome-remote-desktop\")\n",
        "        command = f\"{CRP} --pin={Pin}\"\n",
        "        os.system(f\"su - {username} -c '{command}'\")\n",
        "        os.system(\"service chrome-remote-desktop start\")\n",
        "        print(\"Cài đặt thành công\")\n",
        " \n",
        " \n",
        "try:\n",
        "    if username:\n",
        "        if CRP == \"\":\n",
        "            print(\"Vui lòng nhập authcode !\")\n",
        "        elif len(str(Pin)) < 6:\n",
        "            print(\"Mã PIN phải có 6 kí tự trờ lên !\")\n",
        "        else:\n",
        "            CRD()\n",
        "except NameError as e:\n",
        "    print(\"Create a User First\")"
      ]
    },
    {
      "cell_type": "code",
      "execution_count": null,
      "metadata": {
        "cellView": "form",
        "id": "SNW-yZtJpY6X"
      },
      "outputs": [],
      "source": [
        "#@title **Chống ngắt kết nối**\n",
        "t.initializeTurtle()\n",
        "\n",
        "def random_string(length):\n",
        "    letters = string.ascii_lowercase\n",
        "    result_str = ''.join(random.choice(letters) for i in range(length))\n",
        "    print(result_str)\n",
        "\n",
        "def ping2check():\n",
        "    url_list = [\"127.0.0.1\" ,\"google.com\" ,\"1.1.1.1\" ,\"one.one.one.one\" ,\"github.com\" ,\"10.01.10.01\" ,\" api.cloudflareclient.com\" ,\"gitlab.com\" ,\"warp.plus\" ,\"apple.com\" ,\"microsoft.com\" ,\"wordpress.org\" ,\"medium.com\"]\n",
        "    url = random.choice(url_list)\n",
        "    os.system(f\"ping -c {time2gen} {url}\")\n",
        "    print(f\"Đã ping thành công đến url: {url}.\")\n",
        "\n",
        "def uploadLog():\n",
        "    os.system(f\"curl --upload-file log.txt https://transfer.sh/log.txt\")\n",
        "    print(f\"Đã upload thành công log.\")\n",
        "\n",
        "\n",
        "def genIMG():\n",
        "    os.system(f\"stress -m 1 --vm-bytes {ram} --hdd {time2gen} --timeout {totalImg}\") \n",
        "    print(f\"Stress CPU thành công.\")\n",
        "\n",
        "def tcircle(radius):\n",
        "    c = 2 * pi * radius\n",
        "    n = 9 \n",
        "    l = c / n\n",
        "    regular_polygon(int(l),n)\n",
        "\n",
        "def regular_polygon(l, n):\n",
        "    for _ in range(n):\n",
        "        t.forward(l)\n",
        "        t.left(360 / n)\n",
        "while True:\n",
        "  ram = random.randint(2,12)\n",
        "  time2gen = random.randint(1,15)\n",
        "  totalImg = random.randint(1,60)\n",
        "  Tforward = random.randint(35, 150)\n",
        "  Tcircle = random.randint(45,160)\n",
        "  fu_list = [genIMG, uploadLog, ping2check]\n",
        "  random.choice(fu_list)()\n",
        "  t.forward(Tforward)\n",
        "  tcircle(Tcircle)\n",
        "  print(random_string(totalImg))\n",
        "  os.system(\"rm -rf /var/colab/app.log\")\n",
        "  clear_output()\n"
      ]
    }
  ],
  "metadata": {
    "accelerator": "GPU",
    "colab": {
      "collapsed_sections": [],
      "name": "AI.ipynb",
      "provenance": []
    },
    "kernelspec": {
      "display_name": "Python 3",
      "name": "python3"
    },
    "language_info": {
      "name": "python"
    }
  },
  "nbformat": 4,
  "nbformat_minor": 0
}
